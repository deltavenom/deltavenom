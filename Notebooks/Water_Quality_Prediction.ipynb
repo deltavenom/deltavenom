{
 "cells": [
  {
   "cell_type": "code",
   "execution_count": 1,
   "id": "5194b111",
   "metadata": {},
   "outputs": [],
   "source": [
    "import pandas as pd\n",
    "import numpy as np\n",
    "import matplotlib.pyplot as plt\n",
    "import seaborn as sns\n",
    "import warnings \n",
    "warnings.filterwarnings(action=\"ignore\")\n",
    "plt.style.use([\"seaborn-bright\",\"dark_background\"])"
   ]
  },
  {
   "cell_type": "code",
   "execution_count": 2,
   "id": "07b8c2a5",
   "metadata": {},
   "outputs": [
    {
     "data": {
      "text/html": [
       "<div>\n",
       "<style scoped>\n",
       "    .dataframe tbody tr th:only-of-type {\n",
       "        vertical-align: middle;\n",
       "    }\n",
       "\n",
       "    .dataframe tbody tr th {\n",
       "        vertical-align: top;\n",
       "    }\n",
       "\n",
       "    .dataframe thead th {\n",
       "        text-align: right;\n",
       "    }\n",
       "</style>\n",
       "<table border=\"1\" class=\"dataframe\">\n",
       "  <thead>\n",
       "    <tr style=\"text-align: right;\">\n",
       "      <th></th>\n",
       "      <th>ph</th>\n",
       "      <th>Hardness</th>\n",
       "      <th>Solids</th>\n",
       "      <th>Chloramines</th>\n",
       "      <th>Sulfate</th>\n",
       "      <th>Conductivity</th>\n",
       "      <th>Organic_carbon</th>\n",
       "      <th>Trihalomethanes</th>\n",
       "      <th>Turbidity</th>\n",
       "      <th>Potability</th>\n",
       "    </tr>\n",
       "  </thead>\n",
       "  <tbody>\n",
       "    <tr>\n",
       "      <th>0</th>\n",
       "      <td>NaN</td>\n",
       "      <td>204.890455</td>\n",
       "      <td>20791.318981</td>\n",
       "      <td>7.300212</td>\n",
       "      <td>368.516441</td>\n",
       "      <td>564.308654</td>\n",
       "      <td>10.379783</td>\n",
       "      <td>86.990970</td>\n",
       "      <td>2.963135</td>\n",
       "      <td>0</td>\n",
       "    </tr>\n",
       "    <tr>\n",
       "      <th>1</th>\n",
       "      <td>3.716080</td>\n",
       "      <td>129.422921</td>\n",
       "      <td>18630.057858</td>\n",
       "      <td>6.635246</td>\n",
       "      <td>NaN</td>\n",
       "      <td>592.885359</td>\n",
       "      <td>15.180013</td>\n",
       "      <td>56.329076</td>\n",
       "      <td>4.500656</td>\n",
       "      <td>0</td>\n",
       "    </tr>\n",
       "    <tr>\n",
       "      <th>2</th>\n",
       "      <td>8.099124</td>\n",
       "      <td>224.236259</td>\n",
       "      <td>19909.541732</td>\n",
       "      <td>9.275884</td>\n",
       "      <td>NaN</td>\n",
       "      <td>418.606213</td>\n",
       "      <td>16.868637</td>\n",
       "      <td>66.420093</td>\n",
       "      <td>3.055934</td>\n",
       "      <td>0</td>\n",
       "    </tr>\n",
       "    <tr>\n",
       "      <th>3</th>\n",
       "      <td>8.316766</td>\n",
       "      <td>214.373394</td>\n",
       "      <td>22018.417441</td>\n",
       "      <td>8.059332</td>\n",
       "      <td>356.886136</td>\n",
       "      <td>363.266516</td>\n",
       "      <td>18.436524</td>\n",
       "      <td>100.341674</td>\n",
       "      <td>4.628771</td>\n",
       "      <td>0</td>\n",
       "    </tr>\n",
       "    <tr>\n",
       "      <th>4</th>\n",
       "      <td>9.092223</td>\n",
       "      <td>181.101509</td>\n",
       "      <td>17978.986339</td>\n",
       "      <td>6.546600</td>\n",
       "      <td>310.135738</td>\n",
       "      <td>398.410813</td>\n",
       "      <td>11.558279</td>\n",
       "      <td>31.997993</td>\n",
       "      <td>4.075075</td>\n",
       "      <td>0</td>\n",
       "    </tr>\n",
       "  </tbody>\n",
       "</table>\n",
       "</div>"
      ],
      "text/plain": [
       "         ph    Hardness        Solids  Chloramines     Sulfate  Conductivity  \\\n",
       "0       NaN  204.890455  20791.318981     7.300212  368.516441    564.308654   \n",
       "1  3.716080  129.422921  18630.057858     6.635246         NaN    592.885359   \n",
       "2  8.099124  224.236259  19909.541732     9.275884         NaN    418.606213   \n",
       "3  8.316766  214.373394  22018.417441     8.059332  356.886136    363.266516   \n",
       "4  9.092223  181.101509  17978.986339     6.546600  310.135738    398.410813   \n",
       "\n",
       "   Organic_carbon  Trihalomethanes  Turbidity  Potability  \n",
       "0       10.379783        86.990970   2.963135           0  \n",
       "1       15.180013        56.329076   4.500656           0  \n",
       "2       16.868637        66.420093   3.055934           0  \n",
       "3       18.436524       100.341674   4.628771           0  \n",
       "4       11.558279        31.997993   4.075075           0  "
      ]
     },
     "execution_count": 2,
     "metadata": {},
     "output_type": "execute_result"
    }
   ],
   "source": [
    "data = pd.read_csv(\"water_potability.csv\")\n",
    "data.head()"
   ]
  },
  {
   "cell_type": "code",
   "execution_count": 3,
   "id": "d35ad16e",
   "metadata": {},
   "outputs": [
    {
     "data": {
      "text/html": [
       "<div>\n",
       "<style scoped>\n",
       "    .dataframe tbody tr th:only-of-type {\n",
       "        vertical-align: middle;\n",
       "    }\n",
       "\n",
       "    .dataframe tbody tr th {\n",
       "        vertical-align: top;\n",
       "    }\n",
       "\n",
       "    .dataframe thead th {\n",
       "        text-align: right;\n",
       "    }\n",
       "</style>\n",
       "<table border=\"1\" class=\"dataframe\">\n",
       "  <thead>\n",
       "    <tr style=\"text-align: right;\">\n",
       "      <th></th>\n",
       "      <th>ph</th>\n",
       "      <th>Hardness</th>\n",
       "      <th>Solids</th>\n",
       "      <th>Chloramines</th>\n",
       "      <th>Sulfate</th>\n",
       "      <th>Conductivity</th>\n",
       "      <th>Organic_carbon</th>\n",
       "      <th>Trihalomethanes</th>\n",
       "      <th>Turbidity</th>\n",
       "      <th>Potability</th>\n",
       "    </tr>\n",
       "  </thead>\n",
       "  <tbody>\n",
       "    <tr>\n",
       "      <th>count</th>\n",
       "      <td>2785.000000</td>\n",
       "      <td>3276.000000</td>\n",
       "      <td>3276.000000</td>\n",
       "      <td>3276.000000</td>\n",
       "      <td>2495.000000</td>\n",
       "      <td>3276.000000</td>\n",
       "      <td>3276.000000</td>\n",
       "      <td>3114.000000</td>\n",
       "      <td>3276.000000</td>\n",
       "      <td>3276.000000</td>\n",
       "    </tr>\n",
       "    <tr>\n",
       "      <th>mean</th>\n",
       "      <td>7.080795</td>\n",
       "      <td>196.369496</td>\n",
       "      <td>22014.092526</td>\n",
       "      <td>7.122277</td>\n",
       "      <td>333.775777</td>\n",
       "      <td>426.205111</td>\n",
       "      <td>14.284970</td>\n",
       "      <td>66.396293</td>\n",
       "      <td>3.966786</td>\n",
       "      <td>0.390110</td>\n",
       "    </tr>\n",
       "    <tr>\n",
       "      <th>std</th>\n",
       "      <td>1.594320</td>\n",
       "      <td>32.879761</td>\n",
       "      <td>8768.570828</td>\n",
       "      <td>1.583085</td>\n",
       "      <td>41.416840</td>\n",
       "      <td>80.824064</td>\n",
       "      <td>3.308162</td>\n",
       "      <td>16.175008</td>\n",
       "      <td>0.780382</td>\n",
       "      <td>0.487849</td>\n",
       "    </tr>\n",
       "    <tr>\n",
       "      <th>min</th>\n",
       "      <td>0.000000</td>\n",
       "      <td>47.432000</td>\n",
       "      <td>320.942611</td>\n",
       "      <td>0.352000</td>\n",
       "      <td>129.000000</td>\n",
       "      <td>181.483754</td>\n",
       "      <td>2.200000</td>\n",
       "      <td>0.738000</td>\n",
       "      <td>1.450000</td>\n",
       "      <td>0.000000</td>\n",
       "    </tr>\n",
       "    <tr>\n",
       "      <th>25%</th>\n",
       "      <td>6.093092</td>\n",
       "      <td>176.850538</td>\n",
       "      <td>15666.690297</td>\n",
       "      <td>6.127421</td>\n",
       "      <td>307.699498</td>\n",
       "      <td>365.734414</td>\n",
       "      <td>12.065801</td>\n",
       "      <td>55.844536</td>\n",
       "      <td>3.439711</td>\n",
       "      <td>0.000000</td>\n",
       "    </tr>\n",
       "    <tr>\n",
       "      <th>50%</th>\n",
       "      <td>7.036752</td>\n",
       "      <td>196.967627</td>\n",
       "      <td>20927.833607</td>\n",
       "      <td>7.130299</td>\n",
       "      <td>333.073546</td>\n",
       "      <td>421.884968</td>\n",
       "      <td>14.218338</td>\n",
       "      <td>66.622485</td>\n",
       "      <td>3.955028</td>\n",
       "      <td>0.000000</td>\n",
       "    </tr>\n",
       "    <tr>\n",
       "      <th>75%</th>\n",
       "      <td>8.062066</td>\n",
       "      <td>216.667456</td>\n",
       "      <td>27332.762127</td>\n",
       "      <td>8.114887</td>\n",
       "      <td>359.950170</td>\n",
       "      <td>481.792304</td>\n",
       "      <td>16.557652</td>\n",
       "      <td>77.337473</td>\n",
       "      <td>4.500320</td>\n",
       "      <td>1.000000</td>\n",
       "    </tr>\n",
       "    <tr>\n",
       "      <th>max</th>\n",
       "      <td>14.000000</td>\n",
       "      <td>323.124000</td>\n",
       "      <td>61227.196008</td>\n",
       "      <td>13.127000</td>\n",
       "      <td>481.030642</td>\n",
       "      <td>753.342620</td>\n",
       "      <td>28.300000</td>\n",
       "      <td>124.000000</td>\n",
       "      <td>6.739000</td>\n",
       "      <td>1.000000</td>\n",
       "    </tr>\n",
       "  </tbody>\n",
       "</table>\n",
       "</div>"
      ],
      "text/plain": [
       "                ph     Hardness        Solids  Chloramines      Sulfate  \\\n",
       "count  2785.000000  3276.000000   3276.000000  3276.000000  2495.000000   \n",
       "mean      7.080795   196.369496  22014.092526     7.122277   333.775777   \n",
       "std       1.594320    32.879761   8768.570828     1.583085    41.416840   \n",
       "min       0.000000    47.432000    320.942611     0.352000   129.000000   \n",
       "25%       6.093092   176.850538  15666.690297     6.127421   307.699498   \n",
       "50%       7.036752   196.967627  20927.833607     7.130299   333.073546   \n",
       "75%       8.062066   216.667456  27332.762127     8.114887   359.950170   \n",
       "max      14.000000   323.124000  61227.196008    13.127000   481.030642   \n",
       "\n",
       "       Conductivity  Organic_carbon  Trihalomethanes    Turbidity   Potability  \n",
       "count   3276.000000     3276.000000      3114.000000  3276.000000  3276.000000  \n",
       "mean     426.205111       14.284970        66.396293     3.966786     0.390110  \n",
       "std       80.824064        3.308162        16.175008     0.780382     0.487849  \n",
       "min      181.483754        2.200000         0.738000     1.450000     0.000000  \n",
       "25%      365.734414       12.065801        55.844536     3.439711     0.000000  \n",
       "50%      421.884968       14.218338        66.622485     3.955028     0.000000  \n",
       "75%      481.792304       16.557652        77.337473     4.500320     1.000000  \n",
       "max      753.342620       28.300000       124.000000     6.739000     1.000000  "
      ]
     },
     "execution_count": 3,
     "metadata": {},
     "output_type": "execute_result"
    }
   ],
   "source": [
    "data.describe(include=\"all\")"
   ]
  },
  {
   "cell_type": "code",
   "execution_count": 4,
   "id": "21b761fc",
   "metadata": {},
   "outputs": [
    {
     "name": "stdout",
     "output_type": "stream",
     "text": [
      "Feature ph has 14.99% data missing\n",
      "Feature Hardness has 0.0% data missing\n",
      "Feature Solids has 0.0% data missing\n",
      "Feature Chloramines has 0.0% data missing\n",
      "Feature Sulfate has 23.84% data missing\n",
      "Feature Conductivity has 0.0% data missing\n",
      "Feature Organic_carbon has 0.0% data missing\n",
      "Feature Trihalomethanes has 4.95% data missing\n",
      "Feature Turbidity has 0.0% data missing\n",
      "Feature Potability has 0.0% data missing\n"
     ]
    }
   ],
   "source": [
    "for i in data.columns:\n",
    "    per = data[i].isnull().sum()/data.shape[0]\n",
    "    print(\"Feature {} has {}% data missing\".format(i,round(per*100,2)))"
   ]
  },
  {
   "cell_type": "code",
   "execution_count": 5,
   "id": "62eb8813",
   "metadata": {},
   "outputs": [],
   "source": [
    "mean1 = data[\"ph\"].mean()\n",
    "mean2 = data[\"Sulfate\"].mean()\n",
    "mean3 = data[\"Trihalomethanes\"].mean()"
   ]
  },
  {
   "cell_type": "code",
   "execution_count": 6,
   "id": "1346b313",
   "metadata": {},
   "outputs": [],
   "source": [
    "data[\"ph\"] = data[\"ph\"].fillna(mean1)\n",
    "data[\"Sulfate\"] = data[\"Sulfate\"].fillna(mean2)\n",
    "data[\"Trihalomethanes\"] = data[\"Trihalomethanes\"].fillna(mean3)"
   ]
  },
  {
   "cell_type": "code",
   "execution_count": 7,
   "id": "0a93f8a8",
   "metadata": {},
   "outputs": [
    {
     "data": {
      "image/png": "[encoded data removed]",
      "text/plain": [
       "<Figure size 800x800 with 2 Axes>"
      ]
     },
     "metadata": {},
     "output_type": "display_data"
    }
   ],
   "source": [
    "plt.figure(figsize=(8,8))\n",
    "sns.heatmap(data.corr(),annot=True, cmap = \"spring\")\n",
    "plt.show()"
   ]
  },
  {
   "cell_type": "code",
   "execution_count": 8,
   "id": "97358c2f",
   "metadata": {},
   "outputs": [],
   "source": [
    "X = data.drop(columns=[\"Potability\"])\n",
    "y = data[\"Potability\"]"
   ]
  },
  {
   "cell_type": "code",
   "execution_count": 9,
   "id": "cf6e2c56",
   "metadata": {},
   "outputs": [],
   "source": [
    "from sklearn.model_selection import train_test_split\n",
    "x_train, x_test, y_train, y_test = train_test_split(X,y,test_size=0.15, random_state=101)"
   ]
  },
  {
   "cell_type": "code",
   "execution_count": 10,
   "id": "1069efd3",
   "metadata": {},
   "outputs": [],
   "source": [
    "x_train[\"Potability\"] = y_train"
   ]
  },
  {
   "cell_type": "markdown",
   "id": "5c6364e1",
   "metadata": {},
   "source": [
    "## Balancing Unbalanced Dataset"
   ]
  },
  {
   "cell_type": "code",
   "execution_count": 11,
   "id": "a34f066c",
   "metadata": {},
   "outputs": [
    {
     "data": {
      "text/plain": [
       "0    1691\n",
       "1    1093\n",
       "Name: Potability, dtype: int64"
      ]
     },
     "execution_count": 11,
     "metadata": {},
     "output_type": "execute_result"
    }
   ],
   "source": [
    "x_train[\"Potability\"].value_counts()"
   ]
  },
  {
   "cell_type": "code",
   "execution_count": 12,
   "id": "c8170f4b",
   "metadata": {},
   "outputs": [],
   "source": [
    "class_0 = x_train[x_train[\"Potability\"]==0]\n",
    "class_1 = x_train[x_train[\"Potability\"]==1]"
   ]
  },
  {
   "cell_type": "code",
   "execution_count": 13,
   "id": "5f67dc5d",
   "metadata": {},
   "outputs": [],
   "source": [
    "class_1_data = class_1\n",
    "class_0_data = class_0.sample(n=class_1.shape[0])"
   ]
  },
  {
   "cell_type": "code",
   "execution_count": 14,
   "id": "271de309",
   "metadata": {},
   "outputs": [],
   "source": [
    "x_data = pd.concat([class_1_data,class_0_data])"
   ]
  },
  {
   "cell_type": "code",
   "execution_count": 15,
   "id": "e85a914e",
   "metadata": {},
   "outputs": [
    {
     "data": {
      "text/plain": [
       "1    1093\n",
       "0    1093\n",
       "Name: Potability, dtype: int64"
      ]
     },
     "execution_count": 15,
     "metadata": {},
     "output_type": "execute_result"
    }
   ],
   "source": [
    "x_data[\"Potability\"].value_counts()"
   ]
  },
  {
   "cell_type": "code",
   "execution_count": 16,
   "id": "73aac4ab",
   "metadata": {},
   "outputs": [],
   "source": [
    "import sklearn\n",
    "x_data = sklearn.utils.shuffle(x_data)"
   ]
  },
  {
   "cell_type": "code",
   "execution_count": 17,
   "id": "a4d153f1",
   "metadata": {},
   "outputs": [],
   "source": [
    "x_train = x_data.drop(columns=[\"Potability\"])\n",
    "y_train = x_data[\"Potability\"]"
   ]
  },
  {
   "cell_type": "code",
   "execution_count": 18,
   "id": "08bc64fe",
   "metadata": {},
   "outputs": [],
   "source": [
    "from sklearn.linear_model import LogisticRegression\n",
    "from sklearn.tree import DecisionTreeClassifier\n",
    "from sklearn.ensemble import RandomForestClassifier, ExtraTreesClassifier, GradientBoostingClassifier, AdaBoostClassifier\n",
    "from sklearn.svm import SVC\n",
    "from sklearn.neighbors import KNeighborsClassifier\n",
    "from sklearn.naive_bayes import GaussianNB"
   ]
  },
  {
   "cell_type": "code",
   "execution_count": 19,
   "id": "0b02a75b",
   "metadata": {},
   "outputs": [],
   "source": [
    "from sklearn.metrics import classification_report, confusion_matrix"
   ]
  },
  {
   "cell_type": "code",
   "execution_count": 20,
   "id": "7dffca3e",
   "metadata": {},
   "outputs": [],
   "source": [
    "model = LogisticRegression()\n",
    "model.fit(x_train, y_train)\n",
    "train_pred = model.predict(x_train)\n",
    "test_pred = model.predict(x_test)"
   ]
  },
  {
   "cell_type": "code",
   "execution_count": 21,
   "id": "e3fff9b4",
   "metadata": {},
   "outputs": [
    {
     "name": "stdout",
     "output_type": "stream",
     "text": [
      "              precision    recall  f1-score   support\n",
      "\n",
      "           0       0.51      0.53      0.52      1093\n",
      "           1       0.51      0.49      0.50      1093\n",
      "\n",
      "    accuracy                           0.51      2186\n",
      "   macro avg       0.51      0.51      0.51      2186\n",
      "weighted avg       0.51      0.51      0.51      2186\n",
      "\n",
      "              precision    recall  f1-score   support\n",
      "\n",
      "           0       0.63      0.51      0.56       307\n",
      "           1       0.38      0.50      0.43       185\n",
      "\n",
      "    accuracy                           0.51       492\n",
      "   macro avg       0.51      0.51      0.50       492\n",
      "weighted avg       0.54      0.51      0.52       492\n",
      "\n"
     ]
    }
   ],
   "source": [
    "print(classification_report(y_train,train_pred))\n",
    "print(classification_report(y_test,test_pred))"
   ]
  },
  {
   "cell_type": "code",
   "execution_count": 22,
   "id": "afccb8dc",
   "metadata": {},
   "outputs": [
    {
     "name": "stdout",
     "output_type": "stream",
     "text": [
      "[[576 517]\n",
      " [558 535]]\n",
      "[[157 150]\n",
      " [ 92  93]]\n"
     ]
    }
   ],
   "source": [
    "print(confusion_matrix(y_train,train_pred))\n",
    "print(confusion_matrix(y_test,test_pred))"
   ]
  },
  {
   "cell_type": "code",
   "execution_count": 23,
   "id": "2010eb75",
   "metadata": {},
   "outputs": [],
   "source": [
    "models = []\n",
    "models.append((\"LR\",LogisticRegression()))\n",
    "models.append((\"DT\",DecisionTreeClassifier()))\n",
    "models.append((\"RF\",RandomForestClassifier()))\n",
    "models.append((\"ET\",ExtraTreesClassifier()))\n",
    "models.append((\"GB\",GradientBoostingClassifier()))\n",
    "models.append((\"SVC\",SVC()))\n",
    "models.append((\"KNN\",KNeighborsClassifier()))\n",
    "models.append((\"GNB\",GaussianNB()))"
   ]
  },
  {
   "cell_type": "code",
   "execution_count": 24,
   "id": "139236d1",
   "metadata": {},
   "outputs": [
    {
     "name": "stdout",
     "output_type": "stream",
     "text": [
      "LR\n",
      "              precision    recall  f1-score   support\n",
      "\n",
      "           0       0.51      0.53      0.52      1093\n",
      "           1       0.51      0.49      0.50      1093\n",
      "\n",
      "    accuracy                           0.51      2186\n",
      "   macro avg       0.51      0.51      0.51      2186\n",
      "weighted avg       0.51      0.51      0.51      2186\n",
      "\n",
      "              precision    recall  f1-score   support\n",
      "\n",
      "           0       0.63      0.51      0.56       307\n",
      "           1       0.38      0.50      0.43       185\n",
      "\n",
      "    accuracy                           0.51       492\n",
      "   macro avg       0.51      0.51      0.50       492\n",
      "weighted avg       0.54      0.51      0.52       492\n",
      "\n",
      "[[576 517]\n",
      " [558 535]]\n",
      "[[157 150]\n",
      " [ 92  93]]\n",
      "\n",
      "DT\n",
      "              precision    recall  f1-score   support\n",
      "\n",
      "           0       1.00      1.00      1.00      1093\n",
      "           1       1.00      1.00      1.00      1093\n",
      "\n",
      "    accuracy                           1.00      2186\n",
      "   macro avg       1.00      1.00      1.00      2186\n",
      "weighted avg       1.00      1.00      1.00      2186\n",
      "\n",
      "              precision    recall  f1-score   support\n",
      "\n",
      "           0       0.68      0.56      0.61       307\n",
      "           1       0.44      0.57      0.50       185\n",
      "\n",
      "    accuracy                           0.56       492\n",
      "   macro avg       0.56      0.56      0.56       492\n",
      "weighted avg       0.59      0.56      0.57       492\n",
      "\n",
      "[[1093    0]\n",
      " [   0 1093]]\n",
      "[[171 136]\n",
      " [ 79 106]]\n",
      "\n",
      "RF\n",
      "              precision    recall  f1-score   support\n",
      "\n",
      "           0       1.00      1.00      1.00      1093\n",
      "           1       1.00      1.00      1.00      1093\n",
      "\n",
      "    accuracy                           1.00      2186\n",
      "   macro avg       1.00      1.00      1.00      2186\n",
      "weighted avg       1.00      1.00      1.00      2186\n",
      "\n",
      "              precision    recall  f1-score   support\n",
      "\n",
      "           0       0.74      0.65      0.70       307\n",
      "           1       0.52      0.62      0.57       185\n",
      "\n",
      "    accuracy                           0.64       492\n",
      "   macro avg       0.63      0.64      0.63       492\n",
      "weighted avg       0.66      0.64      0.65       492\n",
      "\n",
      "[[1093    0]\n",
      " [   0 1093]]\n",
      "[[201 106]\n",
      " [ 70 115]]\n",
      "\n",
      "ET\n",
      "              precision    recall  f1-score   support\n",
      "\n",
      "           0       1.00      1.00      1.00      1093\n",
      "           1       1.00      1.00      1.00      1093\n",
      "\n",
      "    accuracy                           1.00      2186\n",
      "   macro avg       1.00      1.00      1.00      2186\n",
      "weighted avg       1.00      1.00      1.00      2186\n",
      "\n",
      "              precision    recall  f1-score   support\n",
      "\n",
      "           0       0.73      0.69      0.71       307\n",
      "           1       0.52      0.57      0.54       185\n",
      "\n",
      "    accuracy                           0.64       492\n",
      "   macro avg       0.62      0.63      0.62       492\n",
      "weighted avg       0.65      0.64      0.64       492\n",
      "\n",
      "[[1093    0]\n",
      " [   0 1093]]\n",
      "[[211  96]\n",
      " [ 80 105]]\n",
      "\n",
      "GB\n",
      "              precision    recall  f1-score   support\n",
      "\n",
      "           0       0.74      0.84      0.79      1093\n",
      "           1       0.82      0.70      0.76      1093\n",
      "\n",
      "    accuracy                           0.77      2186\n",
      "   macro avg       0.78      0.77      0.77      2186\n",
      "weighted avg       0.78      0.77      0.77      2186\n",
      "\n",
      "              precision    recall  f1-score   support\n",
      "\n",
      "           0       0.70      0.65      0.67       307\n",
      "           1       0.48      0.53      0.50       185\n",
      "\n",
      "    accuracy                           0.61       492\n",
      "   macro avg       0.59      0.59      0.59       492\n",
      "weighted avg       0.61      0.61      0.61       492\n",
      "\n",
      "[[922 171]\n",
      " [326 767]]\n",
      "[[200 107]\n",
      " [ 87  98]]\n",
      "\n",
      "SVC\n",
      "              precision    recall  f1-score   support\n",
      "\n",
      "           0       0.51      0.82      0.63      1093\n",
      "           1       0.55      0.23      0.32      1093\n",
      "\n",
      "    accuracy                           0.52      2186\n",
      "   macro avg       0.53      0.52      0.48      2186\n",
      "weighted avg       0.53      0.52      0.48      2186\n",
      "\n",
      "              precision    recall  f1-score   support\n",
      "\n",
      "           0       0.63      0.80      0.70       307\n",
      "           1       0.38      0.20      0.26       185\n",
      "\n",
      "    accuracy                           0.58       492\n",
      "   macro avg       0.50      0.50      0.48       492\n",
      "weighted avg       0.53      0.58      0.54       492\n",
      "\n",
      "[[891 202]\n",
      " [844 249]]\n",
      "[[247  60]\n",
      " [148  37]]\n",
      "\n",
      "KNN\n",
      "              precision    recall  f1-score   support\n",
      "\n",
      "           0       0.69      0.71      0.70      1093\n",
      "           1       0.70      0.67      0.69      1093\n",
      "\n",
      "    accuracy                           0.69      2186\n",
      "   macro avg       0.69      0.69      0.69      2186\n",
      "weighted avg       0.69      0.69      0.69      2186\n",
      "\n",
      "              precision    recall  f1-score   support\n",
      "\n",
      "           0       0.66      0.58      0.62       307\n",
      "           1       0.42      0.51      0.46       185\n",
      "\n",
      "    accuracy                           0.55       492\n",
      "   macro avg       0.54      0.55      0.54       492\n",
      "weighted avg       0.57      0.55      0.56       492\n",
      "\n",
      "[[780 313]\n",
      " [358 735]]\n",
      "[[179 128]\n",
      " [ 91  94]]\n",
      "\n",
      "GNB\n",
      "              precision    recall  f1-score   support\n",
      "\n",
      "           0       0.56      0.70      0.62      1093\n",
      "           1       0.60      0.45      0.51      1093\n",
      "\n",
      "    accuracy                           0.58      2186\n",
      "   macro avg       0.58      0.58      0.57      2186\n",
      "weighted avg       0.58      0.58      0.57      2186\n",
      "\n",
      "              precision    recall  f1-score   support\n",
      "\n",
      "           0       0.68      0.70      0.69       307\n",
      "           1       0.47      0.45      0.46       185\n",
      "\n",
      "    accuracy                           0.61       492\n",
      "   macro avg       0.58      0.58      0.58       492\n",
      "weighted avg       0.60      0.61      0.60       492\n",
      "\n",
      "[[764 329]\n",
      " [600 493]]\n",
      "[[214  93]\n",
      " [101  84]]\n",
      "\n"
     ]
    }
   ],
   "source": [
    "for name, model in models:\n",
    "    model.fit(x_train, y_train)\n",
    "    train_pred = model.predict(x_train)\n",
    "    test_pred = model.predict(x_test)\n",
    "    print(name)\n",
    "    print(classification_report(y_train,train_pred))\n",
    "    print(classification_report(y_test,test_pred))\n",
    "    \n",
    "    print(confusion_matrix(y_train,train_pred))\n",
    "    print(confusion_matrix(y_test,test_pred))\n",
    "    print('')"
   ]
  },
  {
   "cell_type": "markdown",
   "id": "947ed731",
   "metadata": {},
   "source": [
    "## Choosing RandomForest"
   ]
  },
  {
   "cell_type": "code",
   "execution_count": 26,
   "id": "26b472ac",
   "metadata": {},
   "outputs": [
    {
     "data": {
      "text/plain": [
       "RandomForestClassifier()"
      ]
     },
     "execution_count": 26,
     "metadata": {},
     "output_type": "execute_result"
    }
   ],
   "source": [
    "model = RandomForestClassifier()\n",
    "model.fit(x_train, y_train)"
   ]
  },
  {
   "cell_type": "code",
   "execution_count": 30,
   "id": "db41de38",
   "metadata": {},
   "outputs": [
    {
     "name": "stdout",
     "output_type": "stream",
     "text": [
      "100 = 0.6463414634146342\n",
      "150 = 0.6483739837398373\n",
      "200 = 0.6382113821138211\n",
      "250 = 0.6544715447154471\n",
      "300 = 0.6565040650406504\n",
      "350 = 0.6585365853658537\n",
      "400 = 0.6626016260162602\n",
      "450 = 0.6747967479674797\n",
      "500 = 0.6565040650406504\n",
      "550 = 0.6686991869918699\n",
      "600 = 0.6626016260162602\n",
      "650 = 0.6829268292682927\n",
      "700 = 0.6565040650406504\n",
      "750 = 0.6483739837398373\n",
      "800 = 0.6605691056910569\n",
      "850 = 0.6585365853658537\n",
      "900 = 0.6544715447154471\n",
      "950 = 0.6483739837398373\n",
      "1000 = 0.6646341463414634\n"
     ]
    }
   ],
   "source": [
    "for i in range(100,1001,50):\n",
    "    model = RandomForestClassifier(n_estimators=i)\n",
    "    model.fit(x_train,y_train)\n",
    "    print(\"{} = {}\".format(i,model.score(x_test,y_test)))"
   ]
  },
  {
   "cell_type": "code",
   "execution_count": 35,
   "id": "a1507711",
   "metadata": {},
   "outputs": [
    {
     "name": "stdout",
     "output_type": "stream",
     "text": [
      "1 = 0.6483739837398373\n",
      "2 = 0.6422764227642277\n",
      "3 = 0.6666666666666666\n",
      "4 = 0.6565040650406504\n",
      "5 = 0.676829268292683\n",
      "6 = 0.6707317073170732\n",
      "7 = 0.6747967479674797\n",
      "8 = 0.6504065040650406\n",
      "9 = 0.6605691056910569\n"
     ]
    }
   ],
   "source": [
    "for i in range(1,10):\n",
    "    model = RandomForestClassifier(n_estimators=650,max_features=i)\n",
    "    model.fit(x_train,y_train)\n",
    "    print(\"{} = {}\".format(i,model.score(x_test,y_test)))"
   ]
  },
  {
   "cell_type": "code",
   "execution_count": 36,
   "id": "c7cd63a7",
   "metadata": {},
   "outputs": [
    {
     "data": {
      "text/plain": [
       "RandomForestClassifier(max_features=5, n_estimators=650)"
      ]
     },
     "execution_count": 36,
     "metadata": {},
     "output_type": "execute_result"
    }
   ],
   "source": [
    "model = RandomForestClassifier(n_estimators=650,max_features=5)\n",
    "model.fit(x_train,y_train)"
   ]
  },
  {
   "cell_type": "markdown",
   "id": "6c52b6d0",
   "metadata": {},
   "source": [
    "## Saving model using pickle"
   ]
  },
  {
   "cell_type": "code",
   "execution_count": 37,
   "id": "86625c23",
   "metadata": {},
   "outputs": [],
   "source": [
    "import pickle"
   ]
  },
  {
   "cell_type": "code",
   "execution_count": 38,
   "id": "7ec72d80",
   "metadata": {},
   "outputs": [
    {
     "name": "stdout",
     "output_type": "stream",
     "text": [
      "0.6626016260162602\n"
     ]
    }
   ],
   "source": [
    "pickle_out = open(\"water_potability.pkl\",\"wb\")\n",
    "pickle.dump(model,pickle_out)\n",
    "loaded_model = pickle.load(open(\"water_potability.pkl\",\"rb\"))\n",
    "result = loaded_model.score(x_test,y_test)\n",
    "print(result)"
   ]
  },
  {
   "cell_type": "code",
   "execution_count": null,
   "id": "f87607a4",
   "metadata": {},
   "outputs": [],
   "source": []
  }
 ],
 "metadata": {
  "kernelspec": {
   "display_name": "Python 3",
   "language": "python",
   "name": "python3"
  },
  "language_info": {
   "codemirror_mode": {
    "name": "ipython",
    "version": 3
   },
   "file_extension": ".py",
   "mimetype": "text/x-python",
   "name": "python",
   "nbconvert_exporter": "python",
   "pygments_lexer": "ipython3",
   "version": "3.8.8"
  }
 },
 "nbformat": 4,
 "nbformat_minor": 5
}
